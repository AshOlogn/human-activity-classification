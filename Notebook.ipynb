{
 "cells": [
  {
   "cell_type": "markdown",
   "metadata": {},
   "source": [
    "The original data was given in the form of text files, but I wrote a script to tabulate it in a csv file that can easily be read into a DataFrame. That boilerplate code is omitted, but the csv files themselves clearly denote the features provided. In the following walkthrough, `data` is the training data (itself split for cross-validation until the very end), `test` is the test data (not used at all in model development), `labels` is the training data classes, and `answers` is the test data classes.\n",
    "\n",
    "Also, this walkthrough does NOT use any of the time-series data provided, only the discrete feature vectors. As you will see, we achieve a respectable accuracy even with this subset of the data."
   ]
  },
  {
   "cell_type": "code",
   "execution_count": 165,
   "metadata": {},
   "outputs": [],
   "source": [
    "import pandas as pd\n",
    "data = pd.read_csv('data/train.csv')\n",
    "test = pd.read_csv('data/test.csv')\n",
    "data.pop('Unnamed: 0')\n",
    "test.pop('Unnamed: 0')\n",
    "\n",
    "labels = data.pop('class')\n",
    "answers = test.pop('class')\n",
    "data.head()"
   ]
  },
  {
   "cell_type": "markdown",
   "metadata": {},
   "source": [
    "Before testing different models, we create a helper method that automatically cross-validates a model given the data, model itself, and number of folds."
   ]
  },
  {
   "cell_type": "code",
   "execution_count": 47,
   "metadata": {},
   "outputs": [],
   "source": [
    "%%capture\n",
    "from sklearn.model_selection import KFold\n",
    "from sklearn.ensemble import AdaBoostClassifier\n",
    "\n",
    "#first we set up a training/scoring function that will be used in the future also\n",
    "#it uses K-fold cross-validation to more accurately estimate training error\n",
    "def kfold_test(k = 10, model = AdaBoostClassifier(), data = None, labels = None):\n",
    "    \n",
    "    kf = KFold(n_splits = k)\n",
    "    score = []\n",
    "    \n",
    "    for train,test in kf.split(data):\n",
    "\n",
    "        #get labels\n",
    "        train_y = labels[train]\n",
    "        test_y = labels[test]\n",
    "\n",
    "        #train with provided model\n",
    "        model.fit(data.iloc[train], train_y)\n",
    "\n",
    "        #calculate score\n",
    "        score.append(model.score(data.iloc[test], test_y))\n",
    "    \n",
    "    average_error = sum(score)*1.0/len(score)\n",
    "    return average_error"
   ]
  },
  {
   "cell_type": "markdown",
   "metadata": {},
   "source": [
    "Now let's try a _really_ naive approach: just use basic algorithms on all 561 features. It will probably fail miserably, but we'll at least get a baseline, and a feel for which base classifiers we should even attempt to tune. "
   ]
  },
  {
   "cell_type": "code",
   "execution_count": 167,
   "metadata": {},
   "outputs": [
    {
     "data": {
      "text/plain": [
       "0.8989407719609582"
      ]
     },
     "execution_count": 167,
     "metadata": {},
     "output_type": "execute_result"
    }
   ],
   "source": [
    "from sklearn.neighbors import KNeighborsClassifier\n",
    "knn = KNeighborsClassifier(n_neighbors = 20)\n",
    "kfold_test(10, knn, data, labels)"
   ]
  },
  {
   "cell_type": "code",
   "execution_count": 77,
   "metadata": {},
   "outputs": [
    {
     "data": {
      "text/plain": [
       "0.9412420511682933"
      ]
     },
     "execution_count": 77,
     "metadata": {},
     "output_type": "execute_result"
    }
   ],
   "source": [
    "from sklearn.linear_model import LogisticRegression\n",
    "logr = LogisticRegression()\n",
    "kfold_test(10, logr, data, labels)"
   ]
  },
  {
   "cell_type": "code",
   "execution_count": 48,
   "metadata": {},
   "outputs": [
    {
     "data": {
      "text/plain": [
       "0.6897376885536823"
      ]
     },
     "execution_count": 48,
     "metadata": {},
     "output_type": "execute_result"
    }
   ],
   "source": [
    "from sklearn.naive_bayes import GaussianNB\n",
    "nb = GaussianNB()\n",
    "kfold_test(10, nb, data, labels)"
   ]
  },
  {
   "cell_type": "code",
   "execution_count": 99,
   "metadata": {},
   "outputs": [
    {
     "data": {
      "text/plain": [
       "0.8970354554865423"
      ]
     },
     "execution_count": 99,
     "metadata": {},
     "output_type": "execute_result"
    }
   ],
   "source": [
    "from sklearn.svm import SVC\n",
    "svc = SVC(kernel='linear')\n",
    "kfold_test(10, svc, data, labels)"
   ]
  },
  {
   "cell_type": "code",
   "execution_count": 25,
   "metadata": {},
   "outputs": [
    {
     "name": "stdout",
     "output_type": "stream",
     "text": [
      "0.8446657793552204\n"
     ]
    }
   ],
   "source": [
    "from sklearn.tree import DecisionTreeClassifier\n",
    "dt = DecisionTreeClassifier()\n",
    "kfold_test(10, dt, data, labels)"
   ]
  },
  {
   "cell_type": "code",
   "execution_count": 15,
   "metadata": {},
   "outputs": [
    {
     "data": {
      "text/plain": [
       "0.5467912599822539"
      ]
     },
     "execution_count": 15,
     "metadata": {},
     "output_type": "execute_result"
    }
   ],
   "source": [
    "ada = AdaBoostClassifier()\n",
    "kfold_test(10, ada, data, labels)"
   ]
  },
  {
   "cell_type": "code",
   "execution_count": 26,
   "metadata": {
    "scrolled": true
   },
   "outputs": [
    {
     "name": "stdout",
     "output_type": "stream",
     "text": [
      "0.8962204229517894\n"
     ]
    }
   ],
   "source": [
    "from sklearn.ensemble import RandomForestClassifier\n",
    "rf = RandomForestClassifier()\n",
    "kfold_test(10, rf, data, labels)"
   ]
  },
  {
   "cell_type": "code",
   "execution_count": 35,
   "metadata": {},
   "outputs": [
    {
     "data": {
      "text/plain": [
       "0.922604074238391"
      ]
     },
     "execution_count": 35,
     "metadata": {},
     "output_type": "execute_result"
    }
   ],
   "source": [
    "from sklearn.neural_network import MLPClassifier\n",
    "nn = MLPClassifier()\n",
    "kfold_test(10, nn, data, labels)"
   ]
  },
  {
   "cell_type": "markdown",
   "metadata": {},
   "source": [
    "Now that we have a decent set of baselines, the next step should be to start pruning features to see how that affects the accuracies of the above naive models. The first step should be to get rid of all features that have very low variance, those that don't change enough across samples to be useful in training. We also choose to abandon AdaBoost since it performs so poorly."
   ]
  },
  {
   "cell_type": "code",
   "execution_count": 168,
   "metadata": {},
   "outputs": [
    {
     "name": "stdout",
     "output_type": "stream",
     "text": [
      "367 fBodyAccJerk-entropy()-X                       36918.10\n",
      "41 tGravityAcc-mean()-X                            29362.64\n",
      "53 tGravityAcc-min()-X                             28175.40\n",
      "368 fBodyAccJerk-entropy()-Y                       28115.92\n",
      "50 tGravityAcc-max()-X                             26686.80\n",
      "57 tGravityAcc-energy()-X                          25981.56\n",
      "524 fBodyBodyAccJerkMag-entropy()                  23619.25\n",
      "235 tBodyAccJerkMag-entropy()                      23437.11\n",
      "288 fBodyAcc-entropy()-X                           23221.61\n",
      "103 tBodyAccJerk-entropy()-X                       22267.09\n"
     ]
    }
   ],
   "source": [
    "from operator import itemgetter\n",
    "from sklearn.feature_selection import SelectKBest\n",
    "\n",
    "k = 100\n",
    "select = SelectKBest(k=k)\n",
    "select.fit(data, labels)\n",
    "\n",
    "ranked = list(zip(data.columns, select.scores_))\n",
    "ranked.sort(key = itemgetter(1))\n",
    "ranked.reverse()\n",
    "\n",
    "for (ranked, score) in ranked[:10]:\n",
    "    print(\"%-50s %.2f\" % (ranked, score))"
   ]
  },
  {
   "cell_type": "code",
   "execution_count": 79,
   "metadata": {},
   "outputs": [
    {
     "name": "stdout",
     "output_type": "stream",
     "text": [
      "knn: 0.8756848935226266\n",
      "logr: 0.9071081041112097\n",
      "nb: 0.765232179828453\n",
      "svc: 0.8769114167406092\n",
      "dt: 0.8139250591540964\n",
      "rf: 0.8554161120970127\n",
      "mlp: 0.8835775288376219\n"
     ]
    }
   ],
   "source": [
    "data_k = pd.DataFrame(select.transform(data))\n",
    "models = [('knn', KNeighborsClassifier(n_neighbors=20)), ('logr', LogisticRegression()), ('nb', GaussianNB()),\n",
    "         ('svc', SVC(kernel='linear')), ('dt', DecisionTreeClassifier()), ('rf', RandomForestClassifier()), \n",
    "         ('mlp', MLPClassifier())]\n",
    "\n",
    "for name, model in models:\n",
    "    print(name + \": \" + str(kfold_test(10, model, data_k, labels)))"
   ]
  },
  {
   "cell_type": "markdown",
   "metadata": {},
   "source": [
    "So it seems that selecting just the top K features increases error slightly, but that at least tells us that a fraction of the features are responsible for most of the learning that takes place. The next step is to weed out correlated features and try again. We borrowed code from https://stackabuse.com/applying-filter-methods-in-python-for-feature-selection/ to save time. We remove feature pairs with at least 0.8 correlation. This should make the feature set less cluttered."
   ]
  },
  {
   "cell_type": "code",
   "execution_count": 169,
   "metadata": {},
   "outputs": [
    {
     "name": "stdout",
     "output_type": "stream",
     "text": [
      "number of correlated features: 416\n"
     ]
    },
    {
     "data": {
      "text/html": [
       "<div>\n",
       "<style scoped>\n",
       "    .dataframe tbody tr th:only-of-type {\n",
       "        vertical-align: middle;\n",
       "    }\n",
       "\n",
       "    .dataframe tbody tr th {\n",
       "        vertical-align: top;\n",
       "    }\n",
       "\n",
       "    .dataframe thead th {\n",
       "        text-align: right;\n",
       "    }\n",
       "</style>\n",
       "<table border=\"1\" class=\"dataframe\">\n",
       "  <thead>\n",
       "    <tr style=\"text-align: right;\">\n",
       "      <th></th>\n",
       "      <th>1 tBodyAcc-mean()-X</th>\n",
       "      <th>2 tBodyAcc-mean()-Y</th>\n",
       "      <th>3 tBodyAcc-mean()-Z</th>\n",
       "      <th>4 tBodyAcc-std()-X</th>\n",
       "      <th>26 tBodyAcc-arCoeff()-X,1</th>\n",
       "      <th>29 tBodyAcc-arCoeff()-X,4</th>\n",
       "      <th>30 tBodyAcc-arCoeff()-Y,1</th>\n",
       "      <th>32 tBodyAcc-arCoeff()-Y,3</th>\n",
       "      <th>33 tBodyAcc-arCoeff()-Y,4</th>\n",
       "      <th>34 tBodyAcc-arCoeff()-Z,1</th>\n",
       "      <th>...</th>\n",
       "      <th>533 fBodyBodyGyroMag-min()</th>\n",
       "      <th>538 fBodyBodyGyroMag-maxInds</th>\n",
       "      <th>540 fBodyBodyGyroMag-skewness()</th>\n",
       "      <th>551 fBodyBodyGyroJerkMag-maxInds</th>\n",
       "      <th>552 fBodyBodyGyroJerkMag-meanFreq()</th>\n",
       "      <th>553 fBodyBodyGyroJerkMag-skewness()</th>\n",
       "      <th>555 angle(tBodyAccMean,gravity)</th>\n",
       "      <th>556 angle(tBodyAccJerkMean),gravityMean)</th>\n",
       "      <th>557 angle(tBodyGyroMean,gravityMean)</th>\n",
       "      <th>558 angle(tBodyGyroJerkMean,gravityMean)</th>\n",
       "    </tr>\n",
       "  </thead>\n",
       "  <tbody>\n",
       "    <tr>\n",
       "      <th>0</th>\n",
       "      <td>0.288585</td>\n",
       "      <td>-0.020294</td>\n",
       "      <td>-0.132905</td>\n",
       "      <td>-0.995279</td>\n",
       "      <td>0.929294</td>\n",
       "      <td>-0.058526</td>\n",
       "      <td>0.256892</td>\n",
       "      <td>0.264106</td>\n",
       "      <td>-0.095246</td>\n",
       "      <td>0.278851</td>\n",
       "      <td>...</td>\n",
       "      <td>-0.989498</td>\n",
       "      <td>-1.000000</td>\n",
       "      <td>0.586156</td>\n",
       "      <td>-1.000000</td>\n",
       "      <td>-0.074323</td>\n",
       "      <td>-0.298676</td>\n",
       "      <td>-0.112754</td>\n",
       "      <td>0.030400</td>\n",
       "      <td>-0.464761</td>\n",
       "      <td>-0.018446</td>\n",
       "    </tr>\n",
       "    <tr>\n",
       "      <th>1</th>\n",
       "      <td>0.278419</td>\n",
       "      <td>-0.016411</td>\n",
       "      <td>-0.123520</td>\n",
       "      <td>-0.998245</td>\n",
       "      <td>0.611627</td>\n",
       "      <td>0.284595</td>\n",
       "      <td>0.115705</td>\n",
       "      <td>0.294310</td>\n",
       "      <td>-0.281211</td>\n",
       "      <td>0.085988</td>\n",
       "      <td>...</td>\n",
       "      <td>-0.991829</td>\n",
       "      <td>-0.948718</td>\n",
       "      <td>-0.336310</td>\n",
       "      <td>-1.000000</td>\n",
       "      <td>0.158075</td>\n",
       "      <td>-0.595051</td>\n",
       "      <td>0.053477</td>\n",
       "      <td>-0.007435</td>\n",
       "      <td>-0.732626</td>\n",
       "      <td>0.703511</td>\n",
       "    </tr>\n",
       "    <tr>\n",
       "      <th>2</th>\n",
       "      <td>0.279653</td>\n",
       "      <td>-0.019467</td>\n",
       "      <td>-0.113462</td>\n",
       "      <td>-0.995380</td>\n",
       "      <td>0.273025</td>\n",
       "      <td>-0.164739</td>\n",
       "      <td>0.017150</td>\n",
       "      <td>0.342256</td>\n",
       "      <td>-0.332564</td>\n",
       "      <td>0.239281</td>\n",
       "      <td>...</td>\n",
       "      <td>-0.995703</td>\n",
       "      <td>-0.794872</td>\n",
       "      <td>-0.535352</td>\n",
       "      <td>-0.555556</td>\n",
       "      <td>0.414503</td>\n",
       "      <td>-0.390748</td>\n",
       "      <td>-0.118559</td>\n",
       "      <td>0.177899</td>\n",
       "      <td>0.100699</td>\n",
       "      <td>0.808529</td>\n",
       "    </tr>\n",
       "    <tr>\n",
       "      <th>3</th>\n",
       "      <td>0.279174</td>\n",
       "      <td>-0.026201</td>\n",
       "      <td>-0.123283</td>\n",
       "      <td>-0.996091</td>\n",
       "      <td>0.061436</td>\n",
       "      <td>-0.264307</td>\n",
       "      <td>0.072545</td>\n",
       "      <td>0.323154</td>\n",
       "      <td>-0.170813</td>\n",
       "      <td>0.294938</td>\n",
       "      <td>...</td>\n",
       "      <td>-0.996199</td>\n",
       "      <td>-1.000000</td>\n",
       "      <td>-0.230091</td>\n",
       "      <td>-0.936508</td>\n",
       "      <td>0.404573</td>\n",
       "      <td>-0.117290</td>\n",
       "      <td>-0.036788</td>\n",
       "      <td>-0.012892</td>\n",
       "      <td>0.640011</td>\n",
       "      <td>-0.485366</td>\n",
       "    </tr>\n",
       "    <tr>\n",
       "      <th>4</th>\n",
       "      <td>0.276629</td>\n",
       "      <td>-0.016570</td>\n",
       "      <td>-0.115362</td>\n",
       "      <td>-0.998139</td>\n",
       "      <td>0.313276</td>\n",
       "      <td>0.086904</td>\n",
       "      <td>0.257615</td>\n",
       "      <td>0.434728</td>\n",
       "      <td>-0.315375</td>\n",
       "      <td>0.439744</td>\n",
       "      <td>...</td>\n",
       "      <td>-0.998353</td>\n",
       "      <td>-0.897436</td>\n",
       "      <td>-0.510282</td>\n",
       "      <td>-0.936508</td>\n",
       "      <td>0.087753</td>\n",
       "      <td>-0.351471</td>\n",
       "      <td>0.123320</td>\n",
       "      <td>0.122542</td>\n",
       "      <td>0.693578</td>\n",
       "      <td>-0.615971</td>\n",
       "    </tr>\n",
       "  </tbody>\n",
       "</table>\n",
       "<p>5 rows × 145 columns</p>\n",
       "</div>"
      ],
      "text/plain": [
       "   1 tBodyAcc-mean()-X  2 tBodyAcc-mean()-Y  3 tBodyAcc-mean()-Z  \\\n",
       "0             0.288585            -0.020294            -0.132905   \n",
       "1             0.278419            -0.016411            -0.123520   \n",
       "2             0.279653            -0.019467            -0.113462   \n",
       "3             0.279174            -0.026201            -0.123283   \n",
       "4             0.276629            -0.016570            -0.115362   \n",
       "\n",
       "   4 tBodyAcc-std()-X  26 tBodyAcc-arCoeff()-X,1  29 tBodyAcc-arCoeff()-X,4  \\\n",
       "0           -0.995279                   0.929294                  -0.058526   \n",
       "1           -0.998245                   0.611627                   0.284595   \n",
       "2           -0.995380                   0.273025                  -0.164739   \n",
       "3           -0.996091                   0.061436                  -0.264307   \n",
       "4           -0.998139                   0.313276                   0.086904   \n",
       "\n",
       "   30 tBodyAcc-arCoeff()-Y,1  32 tBodyAcc-arCoeff()-Y,3  \\\n",
       "0                   0.256892                   0.264106   \n",
       "1                   0.115705                   0.294310   \n",
       "2                   0.017150                   0.342256   \n",
       "3                   0.072545                   0.323154   \n",
       "4                   0.257615                   0.434728   \n",
       "\n",
       "   33 tBodyAcc-arCoeff()-Y,4  34 tBodyAcc-arCoeff()-Z,1  \\\n",
       "0                  -0.095246                   0.278851   \n",
       "1                  -0.281211                   0.085988   \n",
       "2                  -0.332564                   0.239281   \n",
       "3                  -0.170813                   0.294938   \n",
       "4                  -0.315375                   0.439744   \n",
       "\n",
       "                     ...                     533 fBodyBodyGyroMag-min()  \\\n",
       "0                    ...                                      -0.989498   \n",
       "1                    ...                                      -0.991829   \n",
       "2                    ...                                      -0.995703   \n",
       "3                    ...                                      -0.996199   \n",
       "4                    ...                                      -0.998353   \n",
       "\n",
       "   538 fBodyBodyGyroMag-maxInds  540 fBodyBodyGyroMag-skewness()  \\\n",
       "0                     -1.000000                         0.586156   \n",
       "1                     -0.948718                        -0.336310   \n",
       "2                     -0.794872                        -0.535352   \n",
       "3                     -1.000000                        -0.230091   \n",
       "4                     -0.897436                        -0.510282   \n",
       "\n",
       "   551 fBodyBodyGyroJerkMag-maxInds  552 fBodyBodyGyroJerkMag-meanFreq()  \\\n",
       "0                         -1.000000                            -0.074323   \n",
       "1                         -1.000000                             0.158075   \n",
       "2                         -0.555556                             0.414503   \n",
       "3                         -0.936508                             0.404573   \n",
       "4                         -0.936508                             0.087753   \n",
       "\n",
       "   553 fBodyBodyGyroJerkMag-skewness()  555 angle(tBodyAccMean,gravity)  \\\n",
       "0                            -0.298676                        -0.112754   \n",
       "1                            -0.595051                         0.053477   \n",
       "2                            -0.390748                        -0.118559   \n",
       "3                            -0.117290                        -0.036788   \n",
       "4                            -0.351471                         0.123320   \n",
       "\n",
       "   556 angle(tBodyAccJerkMean),gravityMean)  \\\n",
       "0                                  0.030400   \n",
       "1                                 -0.007435   \n",
       "2                                  0.177899   \n",
       "3                                 -0.012892   \n",
       "4                                  0.122542   \n",
       "\n",
       "   557 angle(tBodyGyroMean,gravityMean)  \\\n",
       "0                             -0.464761   \n",
       "1                             -0.732626   \n",
       "2                              0.100699   \n",
       "3                              0.640011   \n",
       "4                              0.693578   \n",
       "\n",
       "   558 angle(tBodyGyroJerkMean,gravityMean)  \n",
       "0                                 -0.018446  \n",
       "1                                  0.703511  \n",
       "2                                  0.808529  \n",
       "3                                 -0.485366  \n",
       "4                                 -0.615971  \n",
       "\n",
       "[5 rows x 145 columns]"
      ]
     },
     "execution_count": 169,
     "metadata": {},
     "output_type": "execute_result"
    }
   ],
   "source": [
    "correlated_features = set()  \n",
    "correlation_matrix = data.corr()\n",
    "\n",
    "for i in range(len(correlation_matrix .columns)):  \n",
    "    for j in range(i):\n",
    "        if abs(correlation_matrix.iloc[i, j]) > 0.8:\n",
    "            colname = correlation_matrix.columns[i]\n",
    "            correlated_features.add(colname)\n",
    "\n",
    "print('number of correlated features: ' + str(len(correlated_features)))\n",
    "data_pruned = data.drop(labels=correlated_features, axis=1)\n",
    "data_pruned.head()"
   ]
  },
  {
   "cell_type": "markdown",
   "metadata": {},
   "source": [
    "416/561 features seem to be correlated with each other, a significant number. We remove all of those features and rerun the list of models we created earlier to see how accuracy is affected."
   ]
  },
  {
   "cell_type": "code",
   "execution_count": 122,
   "metadata": {},
   "outputs": [
    {
     "name": "stdout",
     "output_type": "stream",
     "text": [
      "knn: 0.8669763013901213\n",
      "logr: 0.9283176205264715\n",
      "nb: 0.82997892635315\n",
      "svc: 0.9179813664596272\n",
      "dt: 0.8411305826678499\n",
      "rf: 0.888879769299024\n",
      "mlp: 0.9224682046731736\n"
     ]
    }
   ],
   "source": [
    "for name, model in models:\n",
    "    print(name + \": \" + str(kfold_test(10, model, data_pruned, labels)))"
   ]
  },
  {
   "cell_type": "markdown",
   "metadata": {},
   "source": [
    "These results show a marked improvement in comparison to K-best and are similar to those obtained with all the features. Thus, we conclude that our correlation matrix strategy does indeed isolate the subset of features that are most important to learn. From now on we focus on tuning the following models since they're the most promising:\n",
    "* Logistic regression\n",
    "* Support vector machine\n",
    "* Multilayer perceptron\n",
    "\n",
    "Since we're training fewer models, we can even iterate through many values of k and graph the accuracies of each model for each value of k."
   ]
  },
  {
   "cell_type": "code",
   "execution_count": 84,
   "metadata": {},
   "outputs": [
    {
     "name": "stdout",
     "output_type": "stream",
     "text": [
      "finished k = 10\n",
      "finished k = 20\n",
      "finished k = 30\n",
      "finished k = 40\n",
      "finished k = 50\n",
      "finished k = 60\n",
      "finished k = 70\n",
      "finished k = 80\n",
      "finished k = 90\n",
      "finished k = 100\n"
     ]
    }
   ],
   "source": [
    "logr_acc = []\n",
    "svc_acc = []\n",
    "mlp_acc = []\n",
    "\n",
    "#try values of k = 10,20,30,...,100\n",
    "for k in range(10,110,10):\n",
    "    select = SelectKBest(k=k)\n",
    "    select.fit(data_pruned, labels)\n",
    "    \n",
    "    #get rid of all but the top k features\n",
    "    data_k = pd.DataFrame(select.transform(data_pruned))\n",
    "    logr_acc.append(kfold_test(10, LogisticRegression(), data_k, labels))\n",
    "    svc_acc.append(kfold_test(10, SVC(kernel='linear'), data_k, labels))\n",
    "    mlp_acc.append(kfold_test(10, MLPClassifier(), data_k, labels))\n",
    "    print('finished k = ' + str(k))"
   ]
  },
  {
   "cell_type": "code",
   "execution_count": 93,
   "metadata": {},
   "outputs": [
    {
     "data": {
      "text/plain": [
       "<matplotlib.axes._subplots.AxesSubplot at 0x7fe3a93027b8>"
      ]
     },
     "execution_count": 93,
     "metadata": {},
     "output_type": "execute_result"
    },
    {
     "data": {
      "image/png": "[encoded data removed]",
      "text/plain": [
       "<Figure size 432x288 with 1 Axes>"
      ]
     },
     "metadata": {},
     "output_type": "display_data"
    }
   ],
   "source": [
    "import seaborn as sns; sns.set()\n",
    "import matplotlib.pyplot as plt\n",
    "\n",
    "k_col = []\n",
    "model_col = []\n",
    "accuracy_col = []\n",
    "\n",
    "for i in range(10):\n",
    "    k_col.append(10*(i+1))\n",
    "    model_col.append('Logistic')\n",
    "    accuracy_col.append(logr_acc[i])\n",
    "    \n",
    "    k_col.append(10*(i+1))\n",
    "    model_col.append('SVC')\n",
    "    accuracy_col.append(svc_acc[i])\n",
    "    \n",
    "    k_col.append(10*(i+1))\n",
    "    model_col.append('MLP')\n",
    "    accuracy_col.append(mlp_acc[i])\n",
    "\n",
    "graph_data = pd.DataFrame()\n",
    "graph_data['K'] = k_col\n",
    "graph_data['Accuracy'] = accuracy_col\n",
    "graph_data['Model'] = model_col\n",
    "sns.scatterplot(x='K', y='Accuracy', hue='Model', data=graph_data)    "
   ]
  },
  {
   "cell_type": "markdown",
   "metadata": {},
   "source": [
    "From the above graph, we can say that k = 80 is a safe choice. Thus, we have successfully pruned our feature set from 561 to 80. RFECV ended up increasing error, so that trial is omitted here. All 3 selected models perform very well with 80 features, as shown below."
   ]
  },
  {
   "cell_type": "code",
   "execution_count": 134,
   "metadata": {},
   "outputs": [
    {
     "name": "stdout",
     "output_type": "stream",
     "text": [
      "data_80 shape: (7352, 80)\n"
     ]
    }
   ],
   "source": [
    "#first save the data using top 80 features (all other features discarded from now on)\n",
    "select = SelectKBest(k=80)\n",
    "select = select.fit(data_pruned, labels)\n",
    "\n",
    "ranked = list(zip(data_pruned.columns, select.scores_))\n",
    "ranked.sort(key = itemgetter(1))\n",
    "ranked.reverse()\n",
    "\n",
    "data_80 = pd.DataFrame()\n",
    "for (feature, score) in ranked[:80]:\n",
    "    data_80[feature] = data_pruned[feature] \n",
    "\n",
    "print('data_80 shape: ' + str(data_80.shape))"
   ]
  },
  {
   "cell_type": "code",
   "execution_count": 140,
   "metadata": {},
   "outputs": [
    {
     "name": "stdout",
     "output_type": "stream",
     "text": [
      "final data: (7352, 79)\n",
      "logr: 0.9230157497781721\n",
      "svc: 0.9213829118603964\n",
      "mlp: 0.9160760499852113\n"
     ]
    }
   ],
   "source": [
    "print('final data: ' + str(data_final.shape))\n",
    "print('logr: ' + str(kfold_test(10, LogisticRegression(), data_80, labels)))\n",
    "print('svc: ' + str(kfold_test(10, SVC(kernel='linear'), data_80, labels)))\n",
    "print('mlp: ' + str(kfold_test(10, MLPClassifier(), data_80, labels)))"
   ]
  },
  {
   "cell_type": "code",
   "execution_count": null,
   "metadata": {},
   "outputs": [],
   "source": [
    "from sklearn.ensemble import VotingClassifier\n",
    "\n",
    "#create a voting classifier with our 3 top models\n",
    "models = [('logr', LogisticRegression()), ('svc', SVC(kernel='linear')), ('mlp', MLPClassifier())]\n",
    "vote = VotingClassifier(estimators=models)\n",
    "kfold_test(10, vote, data_80, labels)"
   ]
  },
  {
   "cell_type": "markdown",
   "metadata": {},
   "source": [
    "Now that we have settled on our 3 best models and a good feature subset, it is time to tune the hyperparameters in the 3 models using GridSearch. This should hopefully increase our accuracy a bit."
   ]
  },
  {
   "cell_type": "code",
   "execution_count": 139,
   "metadata": {},
   "outputs": [
    {
     "name": "stdout",
     "output_type": "stream",
     "text": [
      "logr best score: 0.919885745375408\n",
      "{'fit_intercept': False, 'warm_start': True}\n"
     ]
    }
   ],
   "source": [
    "from sklearn.model_selection import GridSearchCV\n",
    "\n",
    "logr = LogisticRegression()\n",
    "params = {'fit_intercept': (True, False), 'warm_start':(True, False)}\n",
    "search = GridSearchCV(logr, params, cv=5)\n",
    "search.fit(data_80, labels)\n",
    "\n",
    "print('logr best score: ' + str(search.best_score_))\n",
    "print(search.best_params_)"
   ]
  },
  {
   "cell_type": "code",
   "execution_count": 141,
   "metadata": {},
   "outputs": [
    {
     "name": "stdout",
     "output_type": "stream",
     "text": [
      "svc best score: 0.919069640914037\n",
      "{'probability': True, 'shrinking': True}\n"
     ]
    }
   ],
   "source": [
    "svc = SVC(kernel='linear')\n",
    "params = {'shrinking':(True, False), 'probability':(True, False)}\n",
    "search = GridSearchCV(svc, params, cv=5)\n",
    "search.fit(data_80, labels)\n",
    "\n",
    "print('svc best score: ' + str(search.best_score_))\n",
    "print(search.best_params_)"
   ]
  },
  {
   "cell_type": "code",
   "execution_count": 142,
   "metadata": {},
   "outputs": [
    {
     "name": "stdout",
     "output_type": "stream",
     "text": [
      "mlp best score: 0.9205658324265505\n",
      "{'activation': 'relu', 'warm_start': False}\n"
     ]
    }
   ],
   "source": [
    "mlp = MLPClassifier()\n",
    "params = {'activation':('identity', 'logistic', 'tanh', 'relu'), 'warm_start':(True, False)}\n",
    "search = GridSearchCV(mlp, params, cv=5)\n",
    "search.fit(data_80, labels)\n",
    "\n",
    "print('mlp best score: ' + str(search.best_score_))\n",
    "print(search.best_params_)"
   ]
  },
  {
   "cell_type": "code",
   "execution_count": 163,
   "metadata": {},
   "outputs": [
    {
     "name": "stderr",
     "output_type": "stream",
     "text": [
      "/home/ashwin/anaconda3/lib/python3.6/site-packages/sklearn/preprocessing/label.py:151: DeprecationWarning: The truth value of an empty array is ambiguous. Returning False, but in future this will result in an error. Use `array.size > 0` to check that an array is not empty.\n",
      "  if diff:\n",
      "/home/ashwin/anaconda3/lib/python3.6/site-packages/sklearn/preprocessing/label.py:151: DeprecationWarning: The truth value of an empty array is ambiguous. Returning False, but in future this will result in an error. Use `array.size > 0` to check that an array is not empty.\n",
      "  if diff:\n",
      "/home/ashwin/anaconda3/lib/python3.6/site-packages/sklearn/preprocessing/label.py:151: DeprecationWarning: The truth value of an empty array is ambiguous. Returning False, but in future this will result in an error. Use `array.size > 0` to check that an array is not empty.\n",
      "  if diff:\n",
      "/home/ashwin/anaconda3/lib/python3.6/site-packages/sklearn/preprocessing/label.py:151: DeprecationWarning: The truth value of an empty array is ambiguous. Returning False, but in future this will result in an error. Use `array.size > 0` to check that an array is not empty.\n",
      "  if diff:\n",
      "/home/ashwin/anaconda3/lib/python3.6/site-packages/sklearn/preprocessing/label.py:151: DeprecationWarning: The truth value of an empty array is ambiguous. Returning False, but in future this will result in an error. Use `array.size > 0` to check that an array is not empty.\n",
      "  if diff:\n",
      "/home/ashwin/anaconda3/lib/python3.6/site-packages/sklearn/preprocessing/label.py:151: DeprecationWarning: The truth value of an empty array is ambiguous. Returning False, but in future this will result in an error. Use `array.size > 0` to check that an array is not empty.\n",
      "  if diff:\n",
      "/home/ashwin/anaconda3/lib/python3.6/site-packages/sklearn/preprocessing/label.py:151: DeprecationWarning: The truth value of an empty array is ambiguous. Returning False, but in future this will result in an error. Use `array.size > 0` to check that an array is not empty.\n",
      "  if diff:\n",
      "/home/ashwin/anaconda3/lib/python3.6/site-packages/sklearn/preprocessing/label.py:151: DeprecationWarning: The truth value of an empty array is ambiguous. Returning False, but in future this will result in an error. Use `array.size > 0` to check that an array is not empty.\n",
      "  if diff:\n",
      "/home/ashwin/anaconda3/lib/python3.6/site-packages/sklearn/preprocessing/label.py:151: DeprecationWarning: The truth value of an empty array is ambiguous. Returning False, but in future this will result in an error. Use `array.size > 0` to check that an array is not empty.\n",
      "  if diff:\n",
      "/home/ashwin/anaconda3/lib/python3.6/site-packages/sklearn/preprocessing/label.py:151: DeprecationWarning: The truth value of an empty array is ambiguous. Returning False, but in future this will result in an error. Use `array.size > 0` to check that an array is not empty.\n",
      "  if diff:\n"
     ]
    },
    {
     "data": {
      "text/plain": [
       "0.9258721532091098"
      ]
     },
     "execution_count": 163,
     "metadata": {},
     "output_type": "execute_result"
    }
   ],
   "source": [
    "#now we rerun the voting classifier with the optimized parameters\n",
    "models = [('logr', LogisticRegression(fit_intercept=False, warm_start=True)), \n",
    "          ('svc', SVC(kernel='linear', probability=True, shrinking=True)), \n",
    "          ('mlp', MLPClassifier(activation='relu', warm_start=False))]\n",
    "vote = VotingClassifier(estimators=models)\n",
    "kfold_test(10, vote, data_80, labels)"
   ]
  },
  {
   "cell_type": "markdown",
   "metadata": {},
   "source": [
    "Now is the moment of truth: we train our model on the entire training dataset and assess its accuracy on the test dataset. The use of 3 very different algorithms in a voting ensemble should somewhat combat overfitting."
   ]
  },
  {
   "cell_type": "code",
   "execution_count": 166,
   "metadata": {},
   "outputs": [
    {
     "name": "stderr",
     "output_type": "stream",
     "text": [
      "/home/ashwin/anaconda3/lib/python3.6/site-packages/sklearn/preprocessing/label.py:151: DeprecationWarning: The truth value of an empty array is ambiguous. Returning False, but in future this will result in an error. Use `array.size > 0` to check that an array is not empty.\n",
      "  if diff:\n"
     ]
    },
    {
     "data": {
      "text/plain": [
       "0.9609772650152698"
      ]
     },
     "execution_count": 166,
     "metadata": {},
     "output_type": "execute_result"
    }
   ],
   "source": [
    "vote = VotingClassifier(estimators=models)\n",
    "vote.fit(data, labels)\n",
    "vote.score(test, answers)"
   ]
  }
 ],
 "metadata": {
  "kernelspec": {
   "display_name": "Python 3",
   "language": "python",
   "name": "python3"
  },
  "language_info": {
   "codemirror_mode": {
    "name": "ipython",
    "version": 3
   },
   "file_extension": ".py",
   "mimetype": "text/x-python",
   "name": "python",
   "nbconvert_exporter": "python",
   "pygments_lexer": "ipython3",
   "version": "3.6.8"
  }
 },
 "nbformat": 4,
 "nbformat_minor": 2
}
